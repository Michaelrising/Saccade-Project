{
 "cells": [
  {
   "cell_type": "code",
   "execution_count": 1,
   "id": "initial_id",
   "metadata": {
    "collapsed": true,
    "ExecuteTime": {
     "end_time": "2023-11-12T09:58:56.101482Z",
     "start_time": "2023-11-12T09:58:55.719651Z"
    }
   },
   "outputs": [],
   "source": [
    "import polars as pl\n"
   ]
  },
  {
   "cell_type": "code",
   "execution_count": 11,
   "outputs": [
    {
     "data": {
      "text/plain": "shape: (32_607, 4)\n┌───────────────┬─────────┬───────────┬──────────────┐\n│ Time          ┆ Stock   ┆ Quantity  ┆ AveragePrice │\n│ ---           ┆ ---     ┆ ---       ┆ ---          │\n│ str           ┆ str     ┆ i64       ┆ f32          │\n╞═══════════════╪═════════╪═══════════╪══════════════╡\n│ 1112 09:32:00 ┆ Stock25 ┆ -55705    ┆ 7.98         │\n│ 1112 09:32:00 ┆ Stock69 ┆ -95393    ┆ 4.66         │\n│ 1112 09:32:00 ┆ Stock79 ┆ -18033    ┆ 24.65        │\n│ 1112 09:32:00 ┆ Stock9  ┆ -4501     ┆ 98.75        │\n│ …             ┆ …       ┆ …         ┆ …            │\n│ 1112 16:00:00 ┆ Stock51 ┆ 31587034  ┆ 64.5         │\n│ 1112 16:00:00 ┆ Stock21 ┆ 46920877  ┆ 20.5         │\n│ 1112 16:00:00 ┆ Stock4  ┆ 26357122  ┆ 38.25        │\n│ 1112 16:00:00 ┆ Stock66 ┆ 394496983 ┆ 4.55         │\n└───────────────┴─────────┴───────────┴──────────────┘",
      "text/html": "<div><style>\n.dataframe > thead > tr > th,\n.dataframe > tbody > tr > td {\n  text-align: right;\n  white-space: pre-wrap;\n}\n</style>\n<small>shape: (32_607, 4)</small><table border=\"1\" class=\"dataframe\"><thead><tr><th>Time</th><th>Stock</th><th>Quantity</th><th>AveragePrice</th></tr><tr><td>str</td><td>str</td><td>i64</td><td>f32</td></tr></thead><tbody><tr><td>&quot;1112 09:32:00&quot;</td><td>&quot;Stock25&quot;</td><td>-55705</td><td>7.98</td></tr><tr><td>&quot;1112 09:32:00&quot;</td><td>&quot;Stock69&quot;</td><td>-95393</td><td>4.66</td></tr><tr><td>&quot;1112 09:32:00&quot;</td><td>&quot;Stock79&quot;</td><td>-18033</td><td>24.65</td></tr><tr><td>&quot;1112 09:32:00&quot;</td><td>&quot;Stock9&quot;</td><td>-4501</td><td>98.75</td></tr><tr><td>&quot;1112 09:32:00&quot;</td><td>&quot;Stock12&quot;</td><td>-56269</td><td>7.9</td></tr><tr><td>&quot;1112 09:32:00&quot;</td><td>&quot;Stock95&quot;</td><td>-68127</td><td>6.525</td></tr><tr><td>&quot;1112 09:32:00&quot;</td><td>&quot;Stock3&quot;</td><td>-6865</td><td>64.75</td></tr><tr><td>&quot;1112 09:32:00&quot;</td><td>&quot;Stock49&quot;</td><td>-46842</td><td>9.49</td></tr><tr><td>&quot;1112 09:32:00&quot;</td><td>&quot;Stock52&quot;</td><td>-20160</td><td>22.049999</td></tr><tr><td>&quot;1112 09:32:00&quot;</td><td>&quot;Stock60&quot;</td><td>-34194</td><td>13.0</td></tr><tr><td>&quot;1112 09:32:00&quot;</td><td>&quot;Stock42&quot;</td><td>-284956</td><td>1.56</td></tr><tr><td>&quot;1112 09:32:00&quot;</td><td>&quot;Stock48&quot;</td><td>-11606</td><td>38.299999</td></tr><tr><td>&hellip;</td><td>&hellip;</td><td>&hellip;</td><td>&hellip;</td></tr><tr><td>&quot;1112 16:00:00&quot;</td><td>&quot;Stock71&quot;</td><td>-132206273</td><td>14.68</td></tr><tr><td>&quot;1112 16:00:00&quot;</td><td>&quot;Stock96&quot;</td><td>-8046009</td><td>73.349998</td></tr><tr><td>&quot;1112 16:00:00&quot;</td><td>&quot;Stock80&quot;</td><td>97568264</td><td>17.58</td></tr><tr><td>&quot;1112 16:00:00&quot;</td><td>&quot;Stock54&quot;</td><td>2461992</td><td>19.42</td></tr><tr><td>&quot;1112 16:00:00&quot;</td><td>&quot;Stock28&quot;</td><td>36985670</td><td>14.96</td></tr><tr><td>&quot;1112 16:00:00&quot;</td><td>&quot;Stock24&quot;</td><td>-168073555</td><td>6.19</td></tr><tr><td>&quot;1112 16:00:00&quot;</td><td>&quot;Stock22&quot;</td><td>-1284302904</td><td>2.79</td></tr><tr><td>&quot;1112 16:00:00&quot;</td><td>&quot;Stock47&quot;</td><td>-98360380</td><td>9.5</td></tr><tr><td>&quot;1112 16:00:00&quot;</td><td>&quot;Stock51&quot;</td><td>31587034</td><td>64.5</td></tr><tr><td>&quot;1112 16:00:00&quot;</td><td>&quot;Stock21&quot;</td><td>46920877</td><td>20.5</td></tr><tr><td>&quot;1112 16:00:00&quot;</td><td>&quot;Stock4&quot;</td><td>26357122</td><td>38.25</td></tr><tr><td>&quot;1112 16:00:00&quot;</td><td>&quot;Stock66&quot;</td><td>394496983</td><td>4.55</td></tr></tbody></table></div>"
     },
     "execution_count": 11,
     "metadata": {},
     "output_type": "execute_result"
    }
   ],
   "source": [
    "pos = pl.read_ipc('results/1112/positions.arrow')\n",
    "pos"
   ],
   "metadata": {
    "collapsed": false,
    "ExecuteTime": {
     "end_time": "2023-11-12T11:09:44.361257Z",
     "start_time": "2023-11-12T11:09:44.316518Z"
    }
   },
   "id": "8bf3fd96a6829a5f"
  },
  {
   "cell_type": "code",
   "execution_count": 12,
   "outputs": [
    {
     "data": {
      "text/plain": "shape: (329, 2)\n┌───────────────┬───────────────┐\n│ Time          ┆ Quantity      │\n│ ---           ┆ ---           │\n│ str           ┆ f64           │\n╞═══════════════╪═══════════════╡\n│ 1112 11:10:00 ┆ -2.3045e7     │\n│ 1112 11:18:00 ┆ -5.6214e7     │\n│ 1112 13:10:00 ┆ 535439.073237 │\n│ 1112 14:54:00 ┆ -3.2881e8     │\n│ …             ┆ …             │\n│ 1112 11:32:00 ┆ -2.5499e7     │\n│ 1112 11:40:00 ┆ -9.9311e6     │\n│ 1112 15:32:00 ┆ -1.9846e9     │\n│ 1112 13:53:00 ┆ -5.4010e7     │\n└───────────────┴───────────────┘",
      "text/html": "<div><style>\n.dataframe > thead > tr > th,\n.dataframe > tbody > tr > td {\n  text-align: right;\n  white-space: pre-wrap;\n}\n</style>\n<small>shape: (329, 2)</small><table border=\"1\" class=\"dataframe\"><thead><tr><th>Time</th><th>Quantity</th></tr><tr><td>str</td><td>f64</td></tr></thead><tbody><tr><td>&quot;1112 11:10:00&quot;</td><td>-2.3045e7</td></tr><tr><td>&quot;1112 11:18:00&quot;</td><td>-5.6214e7</td></tr><tr><td>&quot;1112 13:10:00&quot;</td><td>535439.073237</td></tr><tr><td>&quot;1112 14:54:00&quot;</td><td>-3.2881e8</td></tr><tr><td>&quot;1112 11:52:00&quot;</td><td>-1.1821e7</td></tr><tr><td>&quot;1112 10:26:00&quot;</td><td>-4.3214e6</td></tr><tr><td>&quot;1112 11:37:00&quot;</td><td>-2.6794e7</td></tr><tr><td>&quot;1112 15:38:00&quot;</td><td>-2.9724e9</td></tr><tr><td>&quot;1112 15:43:00&quot;</td><td>-4.2105e9</td></tr><tr><td>&quot;1112 15:49:00&quot;</td><td>-4.1696e9</td></tr><tr><td>&quot;1112 14:34:00&quot;</td><td>-1.0636e8</td></tr><tr><td>&quot;1112 10:55:00&quot;</td><td>-1.6656e7</td></tr><tr><td>&hellip;</td><td>&hellip;</td></tr><tr><td>&quot;1112 13:49:00&quot;</td><td>-3.7850e7</td></tr><tr><td>&quot;1112 10:00:00&quot;</td><td>2.3973e6</td></tr><tr><td>&quot;1112 13:05:00&quot;</td><td>-3.7272e6</td></tr><tr><td>&quot;1112 11:35:00&quot;</td><td>-3.0212e7</td></tr><tr><td>&quot;1112 13:47:00&quot;</td><td>-2.6338e7</td></tr><tr><td>&quot;1112 14:09:00&quot;</td><td>-6.0870e7</td></tr><tr><td>&quot;1112 10:30:00&quot;</td><td>-5.8552e6</td></tr><tr><td>&quot;1112 15:10:00&quot;</td><td>-4.7773e8</td></tr><tr><td>&quot;1112 11:32:00&quot;</td><td>-2.5499e7</td></tr><tr><td>&quot;1112 11:40:00&quot;</td><td>-9.9311e6</td></tr><tr><td>&quot;1112 15:32:00&quot;</td><td>-1.9846e9</td></tr><tr><td>&quot;1112 13:53:00&quot;</td><td>-5.4010e7</td></tr></tbody></table></div>"
     },
     "execution_count": 12,
     "metadata": {},
     "output_type": "execute_result"
    }
   ],
   "source": [
    "pos.group_by('Time').agg((pl.col('Quantity') * pl.col('AveragePrice')).sum())"
   ],
   "metadata": {
    "collapsed": false,
    "ExecuteTime": {
     "end_time": "2023-11-12T11:09:47.359337Z",
     "start_time": "2023-11-12T11:09:47.345754Z"
    }
   },
   "id": "7480a4f1db6e062e"
  },
  {
   "cell_type": "code",
   "execution_count": 14,
   "outputs": [
    {
     "data": {
      "text/plain": "shape: (1, 3)\n┌──────┬─────────────┬───────────┐\n│ Date ┆ DailyReturn ┆ CumReturn │\n│ ---  ┆ ---         ┆ ---       │\n│ str  ┆ f64         ┆ f64       │\n╞══════╪═════════════╪═══════════╡\n│ 1112 ┆ -14.9361    ┆ -14.9361  │\n└──────┴─────────────┴───────────┘",
      "text/html": "<div><style>\n.dataframe > thead > tr > th,\n.dataframe > tbody > tr > td {\n  text-align: right;\n  white-space: pre-wrap;\n}\n</style>\n<small>shape: (1, 3)</small><table border=\"1\" class=\"dataframe\"><thead><tr><th>Date</th><th>DailyReturn</th><th>CumReturn</th></tr><tr><td>str</td><td>f64</td><td>f64</td></tr></thead><tbody><tr><td>&quot;1112&quot;</td><td>-14.9361</td><td>-14.9361</td></tr></tbody></table></div>"
     },
     "execution_count": 14,
     "metadata": {},
     "output_type": "execute_result"
    }
   ],
   "source": [
    "returns = pl.read_ipc('results/1112/returns.arrow')\n",
    "returns"
   ],
   "metadata": {
    "collapsed": false,
    "ExecuteTime": {
     "end_time": "2023-11-12T11:10:04.368433Z",
     "start_time": "2023-11-12T11:10:04.359477Z"
    }
   },
   "id": "384387bf15f9dc70"
  },
  {
   "cell_type": "code",
   "execution_count": 15,
   "outputs": [
    {
     "data": {
      "text/plain": "shape: (13_294, 7)\n┌───────────────┬─────────┬───────────┬───────────┬───────────┬───────────┬────────┐\n│ Time          ┆ Stock   ┆ Price     ┆ Quantity  ┆ OrderType ┆ OrderSide ┆ Status │\n│ ---           ┆ ---     ┆ ---       ┆ ---       ┆ ---       ┆ ---       ┆ ---    │\n│ str           ┆ str     ┆ f32       ┆ i64       ┆ str       ┆ str       ┆ i32    │\n╞═══════════════╪═════════╪═══════════╪═══════════╪═══════════╪═══════════╪════════╡\n│ 1112 09:31:00 ┆ Stock25 ┆ 7.98      ┆ -55705    ┆ 1         ┆ 2         ┆ 1      │\n│ 1112 09:31:00 ┆ Stock69 ┆ 4.66      ┆ -95393    ┆ 1         ┆ 2         ┆ 1      │\n│ 1112 09:31:00 ┆ Stock79 ┆ 24.65     ┆ -18033    ┆ 1         ┆ 2         ┆ 1      │\n│ 1112 09:31:00 ┆ Stock9  ┆ 98.75     ┆ -4501     ┆ 1         ┆ 2         ┆ 1      │\n│ …             ┆ …       ┆ …         ┆ …         ┆ …         ┆ …         ┆ …      │\n│ 1112 16:00:00 ┆ Stock51 ┆ 64.449997 ┆ 31587034  ┆ 1         ┆ 2         ┆ 1      │\n│ 1112 16:00:00 ┆ Stock21 ┆ 20.549999 ┆ 55264973  ┆ 1         ┆ 2         ┆ 1      │\n│ 1112 16:00:00 ┆ Stock4  ┆ 38.200001 ┆ 26357122  ┆ 1         ┆ 2         ┆ 1      │\n│ 1112 16:00:00 ┆ Stock66 ┆ 4.55      ┆ 432008819 ┆ 1         ┆ 2         ┆ 1      │\n└───────────────┴─────────┴───────────┴───────────┴───────────┴───────────┴────────┘",
      "text/html": "<div><style>\n.dataframe > thead > tr > th,\n.dataframe > tbody > tr > td {\n  text-align: right;\n  white-space: pre-wrap;\n}\n</style>\n<small>shape: (13_294, 7)</small><table border=\"1\" class=\"dataframe\"><thead><tr><th>Time</th><th>Stock</th><th>Price</th><th>Quantity</th><th>OrderType</th><th>OrderSide</th><th>Status</th></tr><tr><td>str</td><td>str</td><td>f32</td><td>i64</td><td>str</td><td>str</td><td>i32</td></tr></thead><tbody><tr><td>&quot;1112 09:31:00&quot;</td><td>&quot;Stock25&quot;</td><td>7.98</td><td>-55705</td><td>&quot;1&quot;</td><td>&quot;2&quot;</td><td>1</td></tr><tr><td>&quot;1112 09:31:00&quot;</td><td>&quot;Stock69&quot;</td><td>4.66</td><td>-95393</td><td>&quot;1&quot;</td><td>&quot;2&quot;</td><td>1</td></tr><tr><td>&quot;1112 09:31:00&quot;</td><td>&quot;Stock79&quot;</td><td>24.65</td><td>-18033</td><td>&quot;1&quot;</td><td>&quot;2&quot;</td><td>1</td></tr><tr><td>&quot;1112 09:31:00&quot;</td><td>&quot;Stock9&quot;</td><td>98.75</td><td>-4501</td><td>&quot;1&quot;</td><td>&quot;2&quot;</td><td>1</td></tr><tr><td>&quot;1112 09:31:00&quot;</td><td>&quot;Stock12&quot;</td><td>7.9</td><td>-56269</td><td>&quot;1&quot;</td><td>&quot;2&quot;</td><td>1</td></tr><tr><td>&quot;1112 09:31:00&quot;</td><td>&quot;Stock95&quot;</td><td>6.525</td><td>-68127</td><td>&quot;1&quot;</td><td>&quot;2&quot;</td><td>1</td></tr><tr><td>&quot;1112 09:31:00&quot;</td><td>&quot;Stock3&quot;</td><td>64.75</td><td>-6865</td><td>&quot;1&quot;</td><td>&quot;2&quot;</td><td>1</td></tr><tr><td>&quot;1112 09:31:00&quot;</td><td>&quot;Stock49&quot;</td><td>9.49</td><td>-46842</td><td>&quot;1&quot;</td><td>&quot;2&quot;</td><td>1</td></tr><tr><td>&quot;1112 09:31:00&quot;</td><td>&quot;Stock52&quot;</td><td>22.049999</td><td>-20160</td><td>&quot;1&quot;</td><td>&quot;2&quot;</td><td>1</td></tr><tr><td>&quot;1112 09:31:00&quot;</td><td>&quot;Stock60&quot;</td><td>13.0</td><td>-34194</td><td>&quot;1&quot;</td><td>&quot;2&quot;</td><td>1</td></tr><tr><td>&quot;1112 09:31:00&quot;</td><td>&quot;Stock42&quot;</td><td>1.56</td><td>-284956</td><td>&quot;1&quot;</td><td>&quot;2&quot;</td><td>1</td></tr><tr><td>&quot;1112 09:31:00&quot;</td><td>&quot;Stock48&quot;</td><td>38.299999</td><td>-11606</td><td>&quot;1&quot;</td><td>&quot;2&quot;</td><td>1</td></tr><tr><td>&hellip;</td><td>&hellip;</td><td>&hellip;</td><td>&hellip;</td><td>&hellip;</td><td>&hellip;</td><td>&hellip;</td></tr><tr><td>&quot;1112 16:00:00&quot;</td><td>&quot;Stock71&quot;</td><td>14.68</td><td>-132206273</td><td>&quot;1&quot;</td><td>&quot;1&quot;</td><td>1</td></tr><tr><td>&quot;1112 16:00:00&quot;</td><td>&quot;Stock96&quot;</td><td>73.349998</td><td>-8046009</td><td>&quot;1&quot;</td><td>&quot;1&quot;</td><td>1</td></tr><tr><td>&quot;1112 16:00:00&quot;</td><td>&quot;Stock80&quot;</td><td>17.58</td><td>97568264</td><td>&quot;1&quot;</td><td>&quot;2&quot;</td><td>1</td></tr><tr><td>&quot;1112 16:00:00&quot;</td><td>&quot;Stock54&quot;</td><td>19.42</td><td>2461992</td><td>&quot;1&quot;</td><td>&quot;2&quot;</td><td>1</td></tr><tr><td>&quot;1112 16:00:00&quot;</td><td>&quot;Stock28&quot;</td><td>14.98</td><td>36985670</td><td>&quot;1&quot;</td><td>&quot;2&quot;</td><td>1</td></tr><tr><td>&quot;1112 16:00:00&quot;</td><td>&quot;Stock24&quot;</td><td>6.16</td><td>-168073555</td><td>&quot;1&quot;</td><td>&quot;1&quot;</td><td>1</td></tr><tr><td>&quot;1112 16:00:00&quot;</td><td>&quot;Stock22&quot;</td><td>2.79</td><td>-1222550567</td><td>&quot;1&quot;</td><td>&quot;1&quot;</td><td>1</td></tr><tr><td>&quot;1112 16:00:00&quot;</td><td>&quot;Stock47&quot;</td><td>9.48</td><td>-98360380</td><td>&quot;1&quot;</td><td>&quot;1&quot;</td><td>1</td></tr><tr><td>&quot;1112 16:00:00&quot;</td><td>&quot;Stock51&quot;</td><td>64.449997</td><td>31587034</td><td>&quot;1&quot;</td><td>&quot;2&quot;</td><td>1</td></tr><tr><td>&quot;1112 16:00:00&quot;</td><td>&quot;Stock21&quot;</td><td>20.549999</td><td>55264973</td><td>&quot;1&quot;</td><td>&quot;2&quot;</td><td>1</td></tr><tr><td>&quot;1112 16:00:00&quot;</td><td>&quot;Stock4&quot;</td><td>38.200001</td><td>26357122</td><td>&quot;1&quot;</td><td>&quot;2&quot;</td><td>1</td></tr><tr><td>&quot;1112 16:00:00&quot;</td><td>&quot;Stock66&quot;</td><td>4.55</td><td>432008819</td><td>&quot;1&quot;</td><td>&quot;2&quot;</td><td>1</td></tr></tbody></table></div>"
     },
     "execution_count": 15,
     "metadata": {},
     "output_type": "execute_result"
    }
   ],
   "source": [
    "transaction_hist = pl.read_ipc('results/1112/transaction_history.arrow')\n",
    "transaction_hist"
   ],
   "metadata": {
    "collapsed": false,
    "ExecuteTime": {
     "end_time": "2023-11-12T11:10:25.027429Z",
     "start_time": "2023-11-12T11:10:25.010961Z"
    }
   },
   "id": "a912ed82b794fae0"
  },
  {
   "cell_type": "code",
   "execution_count": 18,
   "outputs": [
    {
     "data": {
      "text/plain": "shape: (330, 2)\n┌───────────────┬───────────┐\n│ Time          ┆ tbt_value │\n│ ---           ┆ ---       │\n│ str           ┆ f64       │\n╞═══════════════╪═══════════╡\n│ 1112 09:31:00 ┆ -0.00032  │\n│ 1112 09:32:00 ┆ -0.000998 │\n│ 1112 09:33:00 ┆ -0.000103 │\n│ 1112 09:34:00 ┆ -0.000687 │\n│ …             ┆ …         │\n│ 1112 15:57:00 ┆ -1.14892  │\n│ 1112 15:58:00 ┆ -2.067772 │\n│ 1112 15:59:00 ┆ -2.19401  │\n│ 1112 16:00:00 ┆ 0.234194  │\n└───────────────┴───────────┘",
      "text/html": "<div><style>\n.dataframe > thead > tr > th,\n.dataframe > tbody > tr > td {\n  text-align: right;\n  white-space: pre-wrap;\n}\n</style>\n<small>shape: (330, 2)</small><table border=\"1\" class=\"dataframe\"><thead><tr><th>Time</th><th>tbt_value</th></tr><tr><td>str</td><td>f64</td></tr></thead><tbody><tr><td>&quot;1112 09:31:00&quot;</td><td>-0.00032</td></tr><tr><td>&quot;1112 09:32:00&quot;</td><td>-0.000998</td></tr><tr><td>&quot;1112 09:33:00&quot;</td><td>-0.000103</td></tr><tr><td>&quot;1112 09:34:00&quot;</td><td>-0.000687</td></tr><tr><td>&quot;1112 09:35:00&quot;</td><td>-0.001752</td></tr><tr><td>&quot;1112 09:36:00&quot;</td><td>-0.002827</td></tr><tr><td>&quot;1112 09:37:00&quot;</td><td>-0.003265</td></tr><tr><td>&quot;1112 09:38:00&quot;</td><td>-0.000611</td></tr><tr><td>&quot;1112 09:39:00&quot;</td><td>0.003845</td></tr><tr><td>&quot;1112 09:40:00&quot;</td><td>0.00243</td></tr><tr><td>&quot;1112 09:41:00&quot;</td><td>-0.002748</td></tr><tr><td>&quot;1112 09:42:00&quot;</td><td>0.001995</td></tr><tr><td>&hellip;</td><td>&hellip;</td></tr><tr><td>&quot;1112 15:49:00&quot;</td><td>-3.976291</td></tr><tr><td>&quot;1112 15:50:00&quot;</td><td>-1.969597</td></tr><tr><td>&quot;1112 15:51:00&quot;</td><td>-3.261988</td></tr><tr><td>&quot;1112 15:52:00&quot;</td><td>-2.662058</td></tr><tr><td>&quot;1112 15:53:00&quot;</td><td>-2.464265</td></tr><tr><td>&quot;1112 15:54:00&quot;</td><td>-4.551844</td></tr><tr><td>&quot;1112 15:55:00&quot;</td><td>-1.038844</td></tr><tr><td>&quot;1112 15:56:00&quot;</td><td>-0.549844</td></tr><tr><td>&quot;1112 15:57:00&quot;</td><td>-1.14892</td></tr><tr><td>&quot;1112 15:58:00&quot;</td><td>-2.067772</td></tr><tr><td>&quot;1112 15:59:00&quot;</td><td>-2.19401</td></tr><tr><td>&quot;1112 16:00:00&quot;</td><td>0.234194</td></tr></tbody></table></div>"
     },
     "execution_count": 18,
     "metadata": {},
     "output_type": "execute_result"
    }
   ],
   "source": [
    "tbt_values = pl.read_ipc('results/1112/tbt_values.arrow')\n",
    "tbt_values.with_columns(pl.col('tbt_value'))"
   ],
   "metadata": {
    "collapsed": false,
    "ExecuteTime": {
     "end_time": "2023-11-12T11:19:37.899731Z",
     "start_time": "2023-11-12T11:19:37.877696Z"
    }
   },
   "id": "afa62183430dcd0c"
  },
  {
   "cell_type": "code",
   "execution_count": null,
   "outputs": [],
   "source": [],
   "metadata": {
    "collapsed": false
   },
   "id": "ebd285bc03804d36"
  }
 ],
 "metadata": {
  "kernelspec": {
   "display_name": "Python 3",
   "language": "python",
   "name": "python3"
  },
  "language_info": {
   "codemirror_mode": {
    "name": "ipython",
    "version": 2
   },
   "file_extension": ".py",
   "mimetype": "text/x-python",
   "name": "python",
   "nbconvert_exporter": "python",
   "pygments_lexer": "ipython2",
   "version": "2.7.6"
  }
 },
 "nbformat": 4,
 "nbformat_minor": 5
}

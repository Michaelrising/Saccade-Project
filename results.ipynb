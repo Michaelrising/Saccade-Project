{
 "cells": [
  {
   "cell_type": "code",
   "execution_count": 19,
   "id": "initial_id",
   "metadata": {
    "collapsed": true,
    "ExecuteTime": {
     "end_time": "2023-11-12T11:53:41.178912Z",
     "start_time": "2023-11-12T11:53:41.136966Z"
    }
   },
   "outputs": [],
   "source": [
    "import polars as pl\n"
   ]
  },
  {
   "cell_type": "code",
   "execution_count": 20,
   "outputs": [
    {
     "data": {
      "text/plain": "shape: (2_321, 4)\n┌───────────────┬─────────┬──────────┬──────────────┐\n│ Time          ┆ Stock   ┆ Quantity ┆ AveragePrice │\n│ ---           ┆ ---     ┆ ---      ┆ ---          │\n│ str           ┆ str     ┆ i64      ┆ f32          │\n╞═══════════════╪═════════╪══════════╪══════════════╡\n│ 1112 09:35:00 ┆ Stock83 ┆ 39324    ┆ 15.2         │\n│ 1112 09:35:00 ┆ Stock65 ┆ 118128   ┆ 5.06         │\n│ 1112 09:35:00 ┆ Stock76 ┆ 15586    ┆ 38.349998    │\n│ 1112 09:35:00 ┆ Stock14 ┆ 203655   ┆ 2.935        │\n│ …             ┆ …       ┆ …        ┆ …            │\n│ 1112 15:59:00 ┆ Stock14 ┆ 149664   ┆ 2.97         │\n│ 1112 15:59:00 ┆ Stock57 ┆ 8016     ┆ 55.450001    │\n│ 1112 15:59:00 ┆ Stock46 ┆ 16694    ┆ 26.625       │\n│ 1112 15:59:00 ┆ Stock20 ┆ 6465     ┆ 68.75        │\n└───────────────┴─────────┴──────────┴──────────────┘",
      "text/html": "<div><style>\n.dataframe > thead > tr > th,\n.dataframe > tbody > tr > td {\n  text-align: right;\n  white-space: pre-wrap;\n}\n</style>\n<small>shape: (2_321, 4)</small><table border=\"1\" class=\"dataframe\"><thead><tr><th>Time</th><th>Stock</th><th>Quantity</th><th>AveragePrice</th></tr><tr><td>str</td><td>str</td><td>i64</td><td>f32</td></tr></thead><tbody><tr><td>&quot;1112 09:35:00&quot;</td><td>&quot;Stock83&quot;</td><td>39324</td><td>15.2</td></tr><tr><td>&quot;1112 09:35:00&quot;</td><td>&quot;Stock65&quot;</td><td>118128</td><td>5.06</td></tr><tr><td>&quot;1112 09:35:00&quot;</td><td>&quot;Stock76&quot;</td><td>15586</td><td>38.349998</td></tr><tr><td>&quot;1112 09:35:00&quot;</td><td>&quot;Stock14&quot;</td><td>203655</td><td>2.935</td></tr><tr><td>&quot;1112 09:35:00&quot;</td><td>&quot;Stock57&quot;</td><td>10779</td><td>55.450001</td></tr><tr><td>&quot;1112 09:35:00&quot;</td><td>&quot;Stock62&quot;</td><td>104406</td><td>5.725</td></tr><tr><td>&quot;1112 09:35:00&quot;</td><td>&quot;Stock81&quot;</td><td>1826</td><td>327.200012</td></tr><tr><td>&quot;1112 09:35:00&quot;</td><td>&quot;Stock67&quot;</td><td>4688</td><td>127.5</td></tr><tr><td>&quot;1112 09:36:00&quot;</td><td>&quot;Stock26&quot;</td><td>-84600</td><td>3.67</td></tr><tr><td>&quot;1112 09:36:00&quot;</td><td>&quot;Stock95&quot;</td><td>-47474</td><td>6.54</td></tr><tr><td>&quot;1112 09:36:00&quot;</td><td>&quot;Stock42&quot;</td><td>-199028</td><td>1.56</td></tr><tr><td>&quot;1112 09:36:00&quot;</td><td>&quot;Stock63&quot;</td><td>-2965</td><td>104.699997</td></tr><tr><td>&hellip;</td><td>&hellip;</td><td>&hellip;</td><td>&hellip;</td></tr><tr><td>&quot;1112 15:59:00&quot;</td><td>&quot;Stock30&quot;</td><td>-113150</td><td>3.93</td></tr><tr><td>&quot;1112 15:59:00&quot;</td><td>&quot;Stock84&quot;</td><td>-76013</td><td>5.85</td></tr><tr><td>&quot;1112 15:59:00&quot;</td><td>&quot;Stock83&quot;</td><td>29147</td><td>15.25</td></tr><tr><td>&quot;1112 15:59:00&quot;</td><td>&quot;Stock26&quot;</td><td>118850</td><td>3.74</td></tr><tr><td>&quot;1112 15:59:00&quot;</td><td>&quot;Stock52&quot;</td><td>20022</td><td>22.200001</td></tr><tr><td>&quot;1112 15:59:00&quot;</td><td>&quot;Stock89&quot;</td><td>102894</td><td>4.32</td></tr><tr><td>&quot;1112 15:59:00&quot;</td><td>&quot;Stock38&quot;</td><td>55912</td><td>7.95</td></tr><tr><td>&quot;1112 15:59:00&quot;</td><td>&quot;Stock29&quot;</td><td>4998</td><td>88.925003</td></tr><tr><td>&quot;1112 15:59:00&quot;</td><td>&quot;Stock14&quot;</td><td>149664</td><td>2.97</td></tr><tr><td>&quot;1112 15:59:00&quot;</td><td>&quot;Stock57&quot;</td><td>8016</td><td>55.450001</td></tr><tr><td>&quot;1112 15:59:00&quot;</td><td>&quot;Stock46&quot;</td><td>16694</td><td>26.625</td></tr><tr><td>&quot;1112 15:59:00&quot;</td><td>&quot;Stock20&quot;</td><td>6465</td><td>68.75</td></tr></tbody></table></div>"
     },
     "execution_count": 20,
     "metadata": {},
     "output_type": "execute_result"
    }
   ],
   "source": [
    "pos = pl.read_ipc('results/1112/positions.arrow')\n",
    "pos"
   ],
   "metadata": {
    "collapsed": false,
    "ExecuteTime": {
     "end_time": "2023-11-12T11:53:41.712471Z",
     "start_time": "2023-11-12T11:53:41.702399Z"
    }
   },
   "id": "8bf3fd96a6829a5f"
  },
  {
   "cell_type": "code",
   "execution_count": 21,
   "outputs": [
    {
     "data": {
      "text/plain": "shape: (163, 2)\n┌───────────────┬────────────────┐\n│ Time          ┆ Quantity       │\n│ ---           ┆ ---            │\n│ str           ┆ f64            │\n╞═══════════════╪════════════════╡\n│ 1112 15:07:00 ┆ -1722.68608    │\n│ 1112 11:05:00 ┆ -546603.534361 │\n│ 1112 11:09:00 ┆ 4.2178e6       │\n│ 1112 14:31:00 ┆ 472106.727054  │\n│ …             ┆ …              │\n│ 1112 11:45:00 ┆ -525055.257493 │\n│ 1112 15:01:00 ┆ -926762.569886 │\n│ 1112 15:23:00 ┆ -1921.010234   │\n│ 1112 15:45:00 ┆ 447779.496705  │\n└───────────────┴────────────────┘",
      "text/html": "<div><style>\n.dataframe > thead > tr > th,\n.dataframe > tbody > tr > td {\n  text-align: right;\n  white-space: pre-wrap;\n}\n</style>\n<small>shape: (163, 2)</small><table border=\"1\" class=\"dataframe\"><thead><tr><th>Time</th><th>Quantity</th></tr><tr><td>str</td><td>f64</td></tr></thead><tbody><tr><td>&quot;1112 15:07:00&quot;</td><td>-1722.68608</td></tr><tr><td>&quot;1112 11:05:00&quot;</td><td>-546603.534361</td></tr><tr><td>&quot;1112 11:09:00&quot;</td><td>4.2178e6</td></tr><tr><td>&quot;1112 14:31:00&quot;</td><td>472106.727054</td></tr><tr><td>&quot;1112 10:53:00&quot;</td><td>1.1030e6</td></tr><tr><td>&quot;1112 10:39:00&quot;</td><td>3.9035e6</td></tr><tr><td>&quot;1112 10:03:00&quot;</td><td>-4.0558e6</td></tr><tr><td>&quot;1112 11:08:00&quot;</td><td>-999094.487728</td></tr><tr><td>&quot;1112 14:49:00&quot;</td><td>-1.4014e6</td></tr><tr><td>&quot;1112 15:53:00&quot;</td><td>-448041.57285</td></tr><tr><td>&quot;1112 14:47:00&quot;</td><td>-1758.653612</td></tr><tr><td>&quot;1112 11:10:00&quot;</td><td>-2.3133e6</td></tr><tr><td>&hellip;</td><td>&hellip;</td></tr><tr><td>&quot;1112 14:19:00&quot;</td><td>-958475.072772</td></tr><tr><td>&quot;1112 09:35:00&quot;</td><td>4.7815e6</td></tr><tr><td>&quot;1112 14:35:00&quot;</td><td>-946749.974982</td></tr><tr><td>&quot;1112 15:11:00&quot;</td><td>-919908.962824</td></tr><tr><td>&quot;1112 11:39:00&quot;</td><td>1.0499e6</td></tr><tr><td>&quot;1112 13:37:00&quot;</td><td>-993017.205142</td></tr><tr><td>&quot;1112 15:51:00&quot;</td><td>-1603.851679</td></tr><tr><td>&quot;1112 13:39:00&quot;</td><td>-991054.737311</td></tr><tr><td>&quot;1112 11:45:00&quot;</td><td>-525055.257493</td></tr><tr><td>&quot;1112 15:01:00&quot;</td><td>-926762.569886</td></tr><tr><td>&quot;1112 15:23:00&quot;</td><td>-1921.010234</td></tr><tr><td>&quot;1112 15:45:00&quot;</td><td>447779.496705</td></tr></tbody></table></div>"
     },
     "execution_count": 21,
     "metadata": {},
     "output_type": "execute_result"
    }
   ],
   "source": [
    "pos.group_by('Time').agg((pl.col('Quantity') * pl.col('AveragePrice')).sum())"
   ],
   "metadata": {
    "collapsed": false,
    "ExecuteTime": {
     "end_time": "2023-11-12T11:53:47.123416Z",
     "start_time": "2023-11-12T11:53:47.106271Z"
    }
   },
   "id": "7480a4f1db6e062e"
  },
  {
   "cell_type": "code",
   "execution_count": 22,
   "outputs": [
    {
     "data": {
      "text/plain": "shape: (1, 3)\n┌──────┬─────────────┬───────────┐\n│ Date ┆ DailyReturn ┆ CumReturn │\n│ ---  ┆ ---         ┆ ---       │\n│ str  ┆ f64         ┆ f64       │\n╞══════╪═════════════╪═══════════╡\n│ 1112 ┆ -0.2606     ┆ -0.2606   │\n└──────┴─────────────┴───────────┘",
      "text/html": "<div><style>\n.dataframe > thead > tr > th,\n.dataframe > tbody > tr > td {\n  text-align: right;\n  white-space: pre-wrap;\n}\n</style>\n<small>shape: (1, 3)</small><table border=\"1\" class=\"dataframe\"><thead><tr><th>Date</th><th>DailyReturn</th><th>CumReturn</th></tr><tr><td>str</td><td>f64</td><td>f64</td></tr></thead><tbody><tr><td>&quot;1112&quot;</td><td>-0.2606</td><td>-0.2606</td></tr></tbody></table></div>"
     },
     "execution_count": 22,
     "metadata": {},
     "output_type": "execute_result"
    }
   ],
   "source": [
    "returns = pl.read_ipc('results/1112/returns.arrow')\n",
    "returns"
   ],
   "metadata": {
    "collapsed": false,
    "ExecuteTime": {
     "end_time": "2023-11-12T11:53:50.787808Z",
     "start_time": "2023-11-12T11:53:50.779407Z"
    }
   },
   "id": "384387bf15f9dc70"
  },
  {
   "cell_type": "code",
   "execution_count": 23,
   "outputs": [
    {
     "data": {
      "text/plain": "shape: (11_224, 7)\n┌───────────────┬─────────┬───────────┬──────────┬───────────┬───────────┬────────┐\n│ Time          ┆ Stock   ┆ Price     ┆ Quantity ┆ OrderType ┆ OrderSide ┆ Status │\n│ ---           ┆ ---     ┆ ---       ┆ ---      ┆ ---       ┆ ---       ┆ ---    │\n│ str           ┆ str     ┆ f32       ┆ i64      ┆ str       ┆ str       ┆ i32    │\n╞═══════════════╪═════════╪═══════════╪══════════╪═══════════╪═══════════╪════════╡\n│ 1112 09:31:00 ┆ Stock37 ┆ 16.780001 ┆ -39737   ┆ 1         ┆ 2         ┆ 1      │\n│ 1112 09:31:00 ┆ Stock12 ┆ 7.9       ┆ -84404   ┆ 1         ┆ 2         ┆ 1      │\n│ 1112 09:31:00 ┆ Stock95 ┆ 6.525     ┆ -102191  ┆ 1         ┆ 2         ┆ 1      │\n│ 1112 09:31:00 ┆ Stock42 ┆ 1.56      ┆ -427435  ┆ 1         ┆ 2         ┆ 1      │\n│ …             ┆ …       ┆ …         ┆ …        ┆ …         ┆ …         ┆ …      │\n│ 1112 16:00:00 ┆ Stock21 ┆ 20.549999 ┆ 21657    ┆ 1         ┆ 2         ┆ 1      │\n│ 1112 16:00:00 ┆ Stock46 ┆ 26.6      ┆ 16659    ┆ 1         ┆ 2         ┆ 1      │\n│ 1112 16:00:00 ┆ Stock69 ┆ 4.62      ┆ 96307    ┆ 1         ┆ 2         ┆ 1      │\n│ 1112 16:00:00 ┆ Stock3  ┆ 65.599998 ┆ 6762     ┆ 1         ┆ 2         ┆ 1      │\n└───────────────┴─────────┴───────────┴──────────┴───────────┴───────────┴────────┘",
      "text/html": "<div><style>\n.dataframe > thead > tr > th,\n.dataframe > tbody > tr > td {\n  text-align: right;\n  white-space: pre-wrap;\n}\n</style>\n<small>shape: (11_224, 7)</small><table border=\"1\" class=\"dataframe\"><thead><tr><th>Time</th><th>Stock</th><th>Price</th><th>Quantity</th><th>OrderType</th><th>OrderSide</th><th>Status</th></tr><tr><td>str</td><td>str</td><td>f32</td><td>i64</td><td>str</td><td>str</td><td>i32</td></tr></thead><tbody><tr><td>&quot;1112 09:31:00&quot;</td><td>&quot;Stock37&quot;</td><td>16.780001</td><td>-39737</td><td>&quot;1&quot;</td><td>&quot;2&quot;</td><td>1</td></tr><tr><td>&quot;1112 09:31:00&quot;</td><td>&quot;Stock12&quot;</td><td>7.9</td><td>-84404</td><td>&quot;1&quot;</td><td>&quot;2&quot;</td><td>1</td></tr><tr><td>&quot;1112 09:31:00&quot;</td><td>&quot;Stock95&quot;</td><td>6.525</td><td>-102191</td><td>&quot;1&quot;</td><td>&quot;2&quot;</td><td>1</td></tr><tr><td>&quot;1112 09:31:00&quot;</td><td>&quot;Stock42&quot;</td><td>1.56</td><td>-427435</td><td>&quot;1&quot;</td><td>&quot;2&quot;</td><td>1</td></tr><tr><td>&quot;1112 09:31:00&quot;</td><td>&quot;Stock25&quot;</td><td>7.98</td><td>-83558</td><td>&quot;1&quot;</td><td>&quot;2&quot;</td><td>1</td></tr><tr><td>&quot;1112 09:31:00&quot;</td><td>&quot;Stock60&quot;</td><td>13.0</td><td>-51292</td><td>&quot;1&quot;</td><td>&quot;2&quot;</td><td>1</td></tr><tr><td>&quot;1112 09:31:00&quot;</td><td>&quot;Stock30&quot;</td><td>3.91</td><td>-170536</td><td>&quot;1&quot;</td><td>&quot;2&quot;</td><td>1</td></tr><tr><td>&quot;1112 09:31:00&quot;</td><td>&quot;Stock17&quot;</td><td>35.400002</td><td>-18836</td><td>&quot;1&quot;</td><td>&quot;2&quot;</td><td>1</td></tr><tr><td>&quot;1112 09:31:00&quot;</td><td>&quot;Stock3&quot;</td><td>64.75</td><td>-10298</td><td>&quot;1&quot;</td><td>&quot;2&quot;</td><td>1</td></tr><tr><td>&quot;1112 09:31:00&quot;</td><td>&quot;Stock65&quot;</td><td>5.02</td><td>132775</td><td>&quot;1&quot;</td><td>&quot;1&quot;</td><td>1</td></tr><tr><td>&quot;1112 09:31:00&quot;</td><td>&quot;Stock99&quot;</td><td>92.150002</td><td>7233</td><td>&quot;1&quot;</td><td>&quot;1&quot;</td><td>1</td></tr><tr><td>&quot;1112 09:31:00&quot;</td><td>&quot;Stock97&quot;</td><td>138.600006</td><td>4809</td><td>&quot;1&quot;</td><td>&quot;1&quot;</td><td>1</td></tr><tr><td>&hellip;</td><td>&hellip;</td><td>&hellip;</td><td>&hellip;</td><td>&hellip;</td><td>&hellip;</td><td>&hellip;</td></tr><tr><td>&quot;1112 16:00:00&quot;</td><td>&quot;Stock64&quot;</td><td>11.44</td><td>-38892</td><td>&quot;1&quot;</td><td>&quot;1&quot;</td><td>1</td></tr><tr><td>&quot;1112 16:00:00&quot;</td><td>&quot;Stock84&quot;</td><td>5.84</td><td>-75923</td><td>&quot;1&quot;</td><td>&quot;1&quot;</td><td>1</td></tr><tr><td>&quot;1112 16:00:00&quot;</td><td>&quot;Stock83&quot;</td><td>15.24</td><td>29113</td><td>&quot;1&quot;</td><td>&quot;2&quot;</td><td>1</td></tr><tr><td>&quot;1112 16:00:00&quot;</td><td>&quot;Stock26&quot;</td><td>3.74</td><td>118710</td><td>&quot;1&quot;</td><td>&quot;2&quot;</td><td>1</td></tr><tr><td>&quot;1112 16:00:00&quot;</td><td>&quot;Stock89&quot;</td><td>4.32</td><td>102534</td><td>&quot;1&quot;</td><td>&quot;2&quot;</td><td>1</td></tr><tr><td>&quot;1112 16:00:00&quot;</td><td>&quot;Stock38&quot;</td><td>7.95</td><td>55916</td><td>&quot;1&quot;</td><td>&quot;2&quot;</td><td>1</td></tr><tr><td>&quot;1112 16:00:00&quot;</td><td>&quot;Stock14&quot;</td><td>2.96</td><td>149486</td><td>&quot;1&quot;</td><td>&quot;2&quot;</td><td>1</td></tr><tr><td>&quot;1112 16:00:00&quot;</td><td>&quot;Stock100&quot;</td><td>157.199997</td><td>2817</td><td>&quot;1&quot;</td><td>&quot;2&quot;</td><td>1</td></tr><tr><td>&quot;1112 16:00:00&quot;</td><td>&quot;Stock21&quot;</td><td>20.549999</td><td>21657</td><td>&quot;1&quot;</td><td>&quot;2&quot;</td><td>1</td></tr><tr><td>&quot;1112 16:00:00&quot;</td><td>&quot;Stock46&quot;</td><td>26.6</td><td>16659</td><td>&quot;1&quot;</td><td>&quot;2&quot;</td><td>1</td></tr><tr><td>&quot;1112 16:00:00&quot;</td><td>&quot;Stock69&quot;</td><td>4.62</td><td>96307</td><td>&quot;1&quot;</td><td>&quot;2&quot;</td><td>1</td></tr><tr><td>&quot;1112 16:00:00&quot;</td><td>&quot;Stock3&quot;</td><td>65.599998</td><td>6762</td><td>&quot;1&quot;</td><td>&quot;2&quot;</td><td>1</td></tr></tbody></table></div>"
     },
     "execution_count": 23,
     "metadata": {},
     "output_type": "execute_result"
    }
   ],
   "source": [
    "transaction_hist = pl.read_ipc('results/1112/transaction_history.arrow')\n",
    "transaction_hist"
   ],
   "metadata": {
    "collapsed": false,
    "ExecuteTime": {
     "end_time": "2023-11-12T11:53:54.895129Z",
     "start_time": "2023-11-12T11:53:54.884254Z"
    }
   },
   "id": "a912ed82b794fae0"
  },
  {
   "cell_type": "code",
   "execution_count": 24,
   "outputs": [
    {
     "data": {
      "text/plain": "shape: (330, 2)\n┌───────────────┬───────────┐\n│ Time          ┆ tbt_value │\n│ ---           ┆ ---       │\n│ str           ┆ f64       │\n╞═══════════════╪═══════════╡\n│ 1112 09:31:00 ┆ -0.001661 │\n│ 1112 09:32:00 ┆ -0.002567 │\n│ 1112 09:33:00 ┆ -0.003584 │\n│ 1112 09:34:00 ┆ -0.004478 │\n│ …             ┆ …         │\n│ 1112 15:57:00 ┆ -0.259014 │\n│ 1112 15:58:00 ┆ -0.259192 │\n│ 1112 15:59:00 ┆ -0.25989  │\n│ 1112 16:00:00 ┆ -0.260068 │\n└───────────────┴───────────┘",
      "text/html": "<div><style>\n.dataframe > thead > tr > th,\n.dataframe > tbody > tr > td {\n  text-align: right;\n  white-space: pre-wrap;\n}\n</style>\n<small>shape: (330, 2)</small><table border=\"1\" class=\"dataframe\"><thead><tr><th>Time</th><th>tbt_value</th></tr><tr><td>str</td><td>f64</td></tr></thead><tbody><tr><td>&quot;1112 09:31:00&quot;</td><td>-0.001661</td></tr><tr><td>&quot;1112 09:32:00&quot;</td><td>-0.002567</td></tr><tr><td>&quot;1112 09:33:00&quot;</td><td>-0.003584</td></tr><tr><td>&quot;1112 09:34:00&quot;</td><td>-0.004478</td></tr><tr><td>&quot;1112 09:35:00&quot;</td><td>-0.005334</td></tr><tr><td>&quot;1112 09:36:00&quot;</td><td>-0.007179</td></tr><tr><td>&quot;1112 09:37:00&quot;</td><td>-0.007763</td></tr><tr><td>&quot;1112 09:38:00&quot;</td><td>-0.008259</td></tr><tr><td>&quot;1112 09:39:00&quot;</td><td>-0.010133</td></tr><tr><td>&quot;1112 09:40:00&quot;</td><td>-0.010393</td></tr><tr><td>&quot;1112 09:41:00&quot;</td><td>-0.011651</td></tr><tr><td>&quot;1112 09:42:00&quot;</td><td>-0.012629</td></tr><tr><td>&hellip;</td><td>&hellip;</td></tr><tr><td>&quot;1112 15:49:00&quot;</td><td>-0.254206</td></tr><tr><td>&quot;1112 15:50:00&quot;</td><td>-0.254385</td></tr><tr><td>&quot;1112 15:51:00&quot;</td><td>-0.255729</td></tr><tr><td>&quot;1112 15:52:00&quot;</td><td>-0.255881</td></tr><tr><td>&quot;1112 15:53:00&quot;</td><td>-0.25663</td></tr><tr><td>&quot;1112 15:54:00&quot;</td><td>-0.256808</td></tr><tr><td>&quot;1112 15:55:00&quot;</td><td>-0.257788</td></tr><tr><td>&quot;1112 15:56:00&quot;</td><td>-0.257966</td></tr><tr><td>&quot;1112 15:57:00&quot;</td><td>-0.259014</td></tr><tr><td>&quot;1112 15:58:00&quot;</td><td>-0.259192</td></tr><tr><td>&quot;1112 15:59:00&quot;</td><td>-0.25989</td></tr><tr><td>&quot;1112 16:00:00&quot;</td><td>-0.260068</td></tr></tbody></table></div>"
     },
     "execution_count": 24,
     "metadata": {},
     "output_type": "execute_result"
    }
   ],
   "source": [
    "tbt_values = pl.read_ipc('results/1112/tbt_values.arrow')\n",
    "tbt_values.with_columns(pl.col('tbt_value'))"
   ],
   "metadata": {
    "collapsed": false,
    "ExecuteTime": {
     "end_time": "2023-11-12T11:53:57.752294Z",
     "start_time": "2023-11-12T11:53:57.742152Z"
    }
   },
   "id": "afa62183430dcd0c"
  },
  {
   "cell_type": "code",
   "execution_count": null,
   "outputs": [],
   "source": [],
   "metadata": {
    "collapsed": false
   },
   "id": "ebd285bc03804d36"
  }
 ],
 "metadata": {
  "kernelspec": {
   "display_name": "Python 3",
   "language": "python",
   "name": "python3"
  },
  "language_info": {
   "codemirror_mode": {
    "name": "ipython",
    "version": 2
   },
   "file_extension": ".py",
   "mimetype": "text/x-python",
   "name": "python",
   "nbconvert_exporter": "python",
   "pygments_lexer": "ipython2",
   "version": "2.7.6"
  }
 },
 "nbformat": 4,
 "nbformat_minor": 5
}

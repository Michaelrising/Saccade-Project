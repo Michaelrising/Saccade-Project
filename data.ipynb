{
 "cells": [
  {
   "cell_type": "code",
   "execution_count": 1,
   "id": "initial_id",
   "metadata": {
    "collapsed": true,
    "ExecuteTime": {
     "end_time": "2023-11-11T15:28:05.730624Z",
     "start_time": "2023-11-11T15:28:03.135480Z"
    }
   },
   "outputs": [
    {
     "data": {
      "text/plain": "'/home/yitao/projects/Saccade-Project'"
     },
     "execution_count": 1,
     "metadata": {},
     "output_type": "execute_result"
    }
   ],
   "source": [
    "import polars as pl\n",
    "import matplotlib.pyplot as plt\n",
    "import os\n",
    "os.getcwd()"
   ]
  },
  {
   "cell_type": "code",
   "execution_count": 4,
   "outputs": [],
   "source": [
    "data = pl.scan_ipc(\"./data/Stocks/*.arrow\")"
   ],
   "metadata": {
    "collapsed": false,
    "ExecuteTime": {
     "end_time": "2023-11-11T15:57:42.187179Z",
     "start_time": "2023-11-11T15:57:42.154795Z"
    }
   },
   "id": "d58ef8783e3f41e0"
  },
  {
   "cell_type": "code",
   "execution_count": null,
   "outputs": [],
   "source": [
    "# do simple feature selections\n",
    "targets = ['log_close', 'log_open', 'log_vwap', 'log_mid', 'log_twap_mid']\n",
    "\n",
    "irrelavent = ['Minutes', 'Date'] + ['trade_mask', 'lift_mask', 'hit_mask']\n",
    "\n",
    "clean_data= data.drop(irrelavent).collect()\n",
    "corrs = {}\n",
    "for stock, data in clean_data.group_by('Stock'):\n",
    "    print(stock)\n",
    "    corrs[stock] = data.drop('Stock').filter(~pl.any_horizontal(pl.all().is_nan())).corr()"
   ],
   "metadata": {
    "collapsed": false
   },
   "id": "78bb41d20f7fd9a6"
  },
  {
   "cell_type": "code",
   "execution_count": 3,
   "outputs": [
    {
     "name": "stderr",
     "output_type": "stream",
     "text": [
      "100%|██████████| 5/5 [12:29<00:00, 149.98s/it]"
     ]
    },
    {
     "name": "stdout",
     "output_type": "stream",
     "text": [
      "------------  ---  ------  -------  -------  --------\n",
      "target        mse  rmse    r2       in-corr  out-corr\n",
      "log_vwap      0.0  0.0026  0.0008   0.0629   0.0384\n",
      "log_close     0.0  0.003   0.0056   0.0664   0.0621\n",
      "log_open      0.0  0.0027  0.0037   0.0562   0.0545\n",
      "log_mid       0.0  0.0027  0.0098   0.1161   0.1123\n",
      "log_twap_mid  0.0  0.0023  -0.0004  0.0634   0.028\n",
      "------------  ---  ------  -------  -------  --------\n"
     ]
    },
    {
     "name": "stderr",
     "output_type": "stream",
     "text": [
      "\n"
     ]
    }
   ],
   "source": [
    "from sklearn.model_selection import train_test_split\n",
    "from sklearn.ensemble import RandomForestRegressor\n",
    "from sklearn.metrics import mean_squared_error, r2_score\n",
    "import numpy as np\n",
    "from src.utils import test_train_split\n",
    "\n",
    "data = pl.scan_ipc(\"./data/Stocks/*.arrow\").filter(~pl.any_horizontal(pl.selectors.numeric().is_nan())).collect()\n",
    "# Results dictionary\n",
    "results = {}\n",
    "targets = ['log_close', 'log_open', 'log_vwap', 'log_mid', 'log_twap_mid']\n",
    "# Loop through each target label\n",
    "for label in targets:\n",
    "    # Splitting the data\n",
    "    X_train, y_train, X_test, y_test = test_train_split(data, label)\n",
    "\n",
    "    # Model training\n",
    "    model = RandomForestRegressor(max_depth=4, random_state=42)\n",
    "    model.fit(X_train, y_train)\n",
    "\n",
    "    # Predictions and evaluation\n",
    "    predictions = model.predict(X_test)\n",
    "    mse = mean_squared_error(y_test, predictions)\n",
    "    rmse = np.sqrt(mse)\n",
    "    r2 = r2_score(y_test, predictions)\n",
    "\n",
    "    # Store results\n",
    "    results[label] = {'MSE': mse, 'RMSE': rmse, 'R2': r2}\n",
    "\n",
    "# Output results\n",
    "for label, metrics in results.items():\n",
    "    print(f\"Label: {label}, MSE: {metrics['MSE']}, RMSE: {metrics['RMSE']}, R2: {metrics['R2']}\")\n"
   ],
   "metadata": {
    "collapsed": false,
    "ExecuteTime": {
     "end_time": "2023-11-11T15:01:37.587636Z",
     "start_time": "2023-11-11T14:48:47.755074Z"
    }
   },
   "id": "54d9807047aea90e"
  },
  {
   "cell_type": "code",
   "execution_count": 5,
   "outputs": [
    {
     "name": "stderr",
     "output_type": "stream",
     "text": [
      "  0%|          | 0/5 [00:00<?, ?it/s]/opt/anaconda3/lib/python3.8/site-packages/sklearn/linear_model/_ridge.py:147: LinAlgWarning: Ill-conditioned matrix (rcond=3.46386e-23): result may not be accurate.\n",
      "  return linalg.solve(A, Xy, sym_pos=True,\n",
      " 20%|██        | 1/5 [00:04<00:18,  4.64s/it]/opt/anaconda3/lib/python3.8/site-packages/sklearn/linear_model/_ridge.py:147: LinAlgWarning: Ill-conditioned matrix (rcond=3.46386e-23): result may not be accurate.\n",
      "  return linalg.solve(A, Xy, sym_pos=True,\n",
      " 40%|████      | 2/5 [00:07<00:12,  4.23s/it]/opt/anaconda3/lib/python3.8/site-packages/sklearn/linear_model/_ridge.py:147: LinAlgWarning: Ill-conditioned matrix (rcond=3.46386e-23): result may not be accurate.\n",
      "  return linalg.solve(A, Xy, sym_pos=True,\n",
      " 60%|██████    | 3/5 [00:10<00:07,  3.73s/it]/opt/anaconda3/lib/python3.8/site-packages/sklearn/linear_model/_ridge.py:147: LinAlgWarning: Ill-conditioned matrix (rcond=3.46386e-23): result may not be accurate.\n",
      "  return linalg.solve(A, Xy, sym_pos=True,\n",
      " 80%|████████  | 4/5 [00:12<00:03,  3.36s/it]/opt/anaconda3/lib/python3.8/site-packages/sklearn/linear_model/_ridge.py:147: LinAlgWarning: Ill-conditioned matrix (rcond=3.46386e-23): result may not be accurate.\n",
      "  return linalg.solve(A, Xy, sym_pos=True,\n",
      "100%|██████████| 5/5 [00:15<00:00,  3.09s/it]\n"
     ]
    },
    {
     "name": "stdout",
     "output_type": "stream",
     "text": [
      "------------  ---  ------  -------  -------  --------\n",
      "Label         mse  rmse    r2       in-corr  out-corr\n",
      "log_vwap      0.0  0.0026  0.0008   0.0777   0.0592\n",
      "log_close     0.0  0.003   0.0039   0.0838   0.0699\n",
      "log_open      0.0  0.0027  0.0029   0.0804   0.0706\n",
      "log_mid       0.0  0.0027  0.012    0.1359   0.1292\n",
      "log_twap_mid  0.0  0.0024  -0.0019  0.0692   0.0401\n",
      "------------  ---  ------  -------  -------  --------\n"
     ]
    },
    {
     "data": {
      "text/plain": "[['Label', 'mse', 'rmse', 'r2', 'in-corr', 'out-corr'],\n ['log_vwap', 0.0, 0.0026, 0.0008, 0.0777, 0.0592],\n ['log_close', 0.0, 0.003, 0.0039, 0.0838, 0.0699],\n ['log_open', 0.0, 0.0027, 0.0029, 0.0804, 0.0706],\n ['log_mid', 0.0, 0.0027, 0.012, 0.1359, 0.1292],\n ['log_twap_mid', 0.0, 0.0024, -0.0019, 0.0692, 0.0401]]"
     },
     "execution_count": 5,
     "metadata": {},
     "output_type": "execute_result"
    }
   ],
   "source": [
    "X_train.shape"
   ],
   "metadata": {
    "collapsed": false,
    "ExecuteTime": {
     "end_time": "2023-11-11T15:09:21.000679Z",
     "start_time": "2023-11-11T15:09:03.659240Z"
    }
   },
   "id": "4cdc8640c3440ff9"
  },
  {
   "cell_type": "code",
   "execution_count": 2,
   "outputs": [
    {
     "name": "stderr",
     "output_type": "stream",
     "text": [
      "100%|██████████| 5/5 [01:08<00:00, 13.79s/it]\n"
     ]
    },
    {
     "name": "stdout",
     "output_type": "stream",
     "text": [
      "------------  ---  ------  -------  -------  --------\n",
      "Label         mse  rmse    r2       in-corr  out-corr\n",
      "log_vwap      0.0  0.0026  0.0008   0.0778   0.0589\n",
      "log_close     0.0  0.003   0.004    0.084    0.0697\n",
      "log_open      0.0  0.0027  0.0029   0.0807   0.0705\n",
      "log_mid       0.0  0.0027  0.0121   0.1361   0.129\n",
      "log_twap_mid  0.0  0.0024  -0.0019  0.0693   0.0399\n",
      "------------  ---  ------  -------  -------  --------\n"
     ]
    }
   ],
   "source": [
    "y_train.shape"
   ],
   "metadata": {
    "collapsed": false,
    "ExecuteTime": {
     "end_time": "2023-11-11T15:29:35.039384Z",
     "start_time": "2023-11-11T15:28:05.728559Z"
    }
   },
   "id": "7dfca71d4e588feb"
  },
  {
   "cell_type": "code",
   "execution_count": null,
   "outputs": [
    {
     "name": "stderr",
     "output_type": "stream",
     "text": [
      "/opt/anaconda3/lib/python3.8/site-packages/statsmodels/regression/linear_model.py:1715: RuntimeWarning: divide by zero encountered in double_scalars\n",
      "  return 1 - self.ssr/self.centered_tss\n",
      "/opt/anaconda3/lib/python3.8/site-packages/statsmodels/stats/outliers_influence.py:193: RuntimeWarning: divide by zero encountered in double_scalars\n",
      "  vif = 1. / (1. - r_squared_i)\n"
     ]
    }
   ],
   "source": [],
   "metadata": {
    "collapsed": false,
    "is_executing": true,
    "ExecuteTime": {
     "start_time": "2023-11-11T15:57:45.110879Z"
    }
   },
   "id": "7a1fdd561345905"
  }
 ],
 "metadata": {
  "kernelspec": {
   "display_name": "Python 3",
   "language": "python",
   "name": "python3"
  },
  "language_info": {
   "codemirror_mode": {
    "name": "ipython",
    "version": 2
   },
   "file_extension": ".py",
   "mimetype": "text/x-python",
   "name": "python",
   "nbconvert_exporter": "python",
   "pygments_lexer": "ipython2",
   "version": "2.7.6"
  }
 },
 "nbformat": 4,
 "nbformat_minor": 5
}
